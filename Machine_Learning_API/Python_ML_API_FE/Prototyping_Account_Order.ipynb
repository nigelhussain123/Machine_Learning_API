{
 "cells": [
  {
   "cell_type": "code",
   "execution_count": 1,
   "metadata": {},
   "outputs": [
    {
     "name": "stderr",
     "output_type": "stream",
     "text": [
      "[nltk_data] Downloading package punkt to\n",
      "[nltk_data]     /Users/nigel.hussain/nltk_data...\n",
      "[nltk_data]   Package punkt is already up-to-date!\n",
      "[nltk_data] Downloading package stopwords to\n",
      "[nltk_data]     /Users/nigel.hussain/nltk_data...\n",
      "[nltk_data]   Package stopwords is already up-to-date!\n"
     ]
    }
   ],
   "source": [
    "# Import dependencies\n",
    "import pandas as pd\n",
    "import numpy as np\n",
    "import os as os\n",
    "import re, string, unicodedata\n",
    "import nltk\n",
    "nltk.download('punkt')\n",
    "nltk.download('stopwords')\n",
    "import contractions\n",
    "import inflect\n",
    "from bs4 import BeautifulSoup\n",
    "from nltk import word_tokenize, sent_tokenize\n",
    "from nltk.corpus import stopwords\n",
    "from nltk.stem import LancasterStemmer, WordNetLemmatizer\n",
    "from sklearn.model_selection import train_test_split\n",
    "from sklearn import preprocessing"
   ]
  },
  {
   "cell_type": "code",
   "execution_count": 2,
   "metadata": {},
   "outputs": [
    {
     "data": {
      "text/plain": [
       "'/Users/nigel.hussain/Python Machine Learning API'"
      ]
     },
     "execution_count": 2,
     "metadata": {},
     "output_type": "execute_result"
    }
   ],
   "source": [
    "os.getcwd()"
   ]
  },
  {
   "cell_type": "code",
   "execution_count": 23,
   "metadata": {},
   "outputs": [
    {
     "data": {
      "text/html": [
       "<div>\n",
       "<style scoped>\n",
       "    .dataframe tbody tr th:only-of-type {\n",
       "        vertical-align: middle;\n",
       "    }\n",
       "\n",
       "    .dataframe tbody tr th {\n",
       "        vertical-align: top;\n",
       "    }\n",
       "\n",
       "    .dataframe thead th {\n",
       "        text-align: right;\n",
       "    }\n",
       "</style>\n",
       "<table border=\"1\" class=\"dataframe\">\n",
       "  <thead>\n",
       "    <tr style=\"text-align: right;\">\n",
       "      <th></th>\n",
       "      <th>message</th>\n",
       "      <th>case_type</th>\n",
       "      <th>conversation_id</th>\n",
       "      <th>message_id</th>\n",
       "      <th>message_number</th>\n",
       "      <th>message_source</th>\n",
       "    </tr>\n",
       "  </thead>\n",
       "  <tbody>\n",
       "    <tr>\n",
       "      <th>2</th>\n",
       "      <td>Sure, my order ID is A8B9V1E9 and account numb...</td>\n",
       "      <td>cancel_order</td>\n",
       "      <td>1</td>\n",
       "      <td>3</td>\n",
       "      <td>3</td>\n",
       "      <td>customer</td>\n",
       "    </tr>\n",
       "    <tr>\n",
       "      <th>6</th>\n",
       "      <td>Yeah account number 09832453, order BSD932X0</td>\n",
       "      <td>cancel_order</td>\n",
       "      <td>2</td>\n",
       "      <td>7</td>\n",
       "      <td>3</td>\n",
       "      <td>customer</td>\n",
       "    </tr>\n",
       "    <tr>\n",
       "      <th>10</th>\n",
       "      <td>No worries, my order ID is BEDSW912, let me ch...</td>\n",
       "      <td>cancel_order</td>\n",
       "      <td>3</td>\n",
       "      <td>11</td>\n",
       "      <td>3</td>\n",
       "      <td>customer</td>\n",
       "    </tr>\n",
       "    <tr>\n",
       "      <th>11</th>\n",
       "      <td>Account number 67223023</td>\n",
       "      <td>cancel_order</td>\n",
       "      <td>3</td>\n",
       "      <td>12</td>\n",
       "      <td>4</td>\n",
       "      <td>customer</td>\n",
       "    </tr>\n",
       "    <tr>\n",
       "      <th>15</th>\n",
       "      <td>Order ID 87GHE8EU and account number 98234321</td>\n",
       "      <td>cancel_order</td>\n",
       "      <td>4</td>\n",
       "      <td>16</td>\n",
       "      <td>3</td>\n",
       "      <td>customer</td>\n",
       "    </tr>\n",
       "    <tr>\n",
       "      <th>20</th>\n",
       "      <td>account number 01928340</td>\n",
       "      <td>cancel_order</td>\n",
       "      <td>5</td>\n",
       "      <td>21</td>\n",
       "      <td>4</td>\n",
       "      <td>customer</td>\n",
       "    </tr>\n",
       "    <tr>\n",
       "      <th>21</th>\n",
       "      <td>order ID 09BA JH01</td>\n",
       "      <td>cancel_order</td>\n",
       "      <td>5</td>\n",
       "      <td>22</td>\n",
       "      <td>5</td>\n",
       "      <td>customer</td>\n",
       "    </tr>\n",
       "    <tr>\n",
       "      <th>25</th>\n",
       "      <td>account number is 72934923, and order id is 98...</td>\n",
       "      <td>cancel_order</td>\n",
       "      <td>6</td>\n",
       "      <td>26</td>\n",
       "      <td>3</td>\n",
       "      <td>customer</td>\n",
       "    </tr>\n",
       "    <tr>\n",
       "      <th>29</th>\n",
       "      <td>Order ID 987yh512 and account number 32430984</td>\n",
       "      <td>cancel_order</td>\n",
       "      <td>7</td>\n",
       "      <td>30</td>\n",
       "      <td>3</td>\n",
       "      <td>customer</td>\n",
       "    </tr>\n",
       "    <tr>\n",
       "      <th>33</th>\n",
       "      <td>account number 85430982, order ID nbreg923</td>\n",
       "      <td>cancel_order</td>\n",
       "      <td>8</td>\n",
       "      <td>34</td>\n",
       "      <td>3</td>\n",
       "      <td>customer</td>\n",
       "    </tr>\n",
       "    <tr>\n",
       "      <th>37</th>\n",
       "      <td>yeah AN 09823081 order 8n3f0238</td>\n",
       "      <td>cancel_order</td>\n",
       "      <td>9</td>\n",
       "      <td>38</td>\n",
       "      <td>3</td>\n",
       "      <td>customer</td>\n",
       "    </tr>\n",
       "    <tr>\n",
       "      <th>41</th>\n",
       "      <td>Order ID NB0293RJ and account number 09128342</td>\n",
       "      <td>cancel_order</td>\n",
       "      <td>10</td>\n",
       "      <td>42</td>\n",
       "      <td>3</td>\n",
       "      <td>customer</td>\n",
       "    </tr>\n",
       "    <tr>\n",
       "      <th>45</th>\n",
       "      <td>account number 85430982, order ID nbreg923</td>\n",
       "      <td>order_status</td>\n",
       "      <td>11</td>\n",
       "      <td>46</td>\n",
       "      <td>3</td>\n",
       "      <td>customer</td>\n",
       "    </tr>\n",
       "    <tr>\n",
       "      <th>49</th>\n",
       "      <td>account number 01928340</td>\n",
       "      <td>order_status</td>\n",
       "      <td>12</td>\n",
       "      <td>50</td>\n",
       "      <td>3</td>\n",
       "      <td>customer</td>\n",
       "    </tr>\n",
       "    <tr>\n",
       "      <th>50</th>\n",
       "      <td>order ID 09BA JH01</td>\n",
       "      <td>order_status</td>\n",
       "      <td>12</td>\n",
       "      <td>51</td>\n",
       "      <td>4</td>\n",
       "      <td>customer</td>\n",
       "    </tr>\n",
       "    <tr>\n",
       "      <th>54</th>\n",
       "      <td>Yeah account number 09832453, order BSD932X0</td>\n",
       "      <td>order_status</td>\n",
       "      <td>13</td>\n",
       "      <td>55</td>\n",
       "      <td>3</td>\n",
       "      <td>customer</td>\n",
       "    </tr>\n",
       "    <tr>\n",
       "      <th>58</th>\n",
       "      <td>Order ID 987yh512 and account number 32430984</td>\n",
       "      <td>order_status</td>\n",
       "      <td>14</td>\n",
       "      <td>59</td>\n",
       "      <td>3</td>\n",
       "      <td>customer</td>\n",
       "    </tr>\n",
       "    <tr>\n",
       "      <th>63</th>\n",
       "      <td>account number 01928340</td>\n",
       "      <td>order_status</td>\n",
       "      <td>15</td>\n",
       "      <td>64</td>\n",
       "      <td>4</td>\n",
       "      <td>customer</td>\n",
       "    </tr>\n",
       "    <tr>\n",
       "      <th>64</th>\n",
       "      <td>order ID 09BA JH01</td>\n",
       "      <td>order_status</td>\n",
       "      <td>15</td>\n",
       "      <td>65</td>\n",
       "      <td>5</td>\n",
       "      <td>customer</td>\n",
       "    </tr>\n",
       "    <tr>\n",
       "      <th>68</th>\n",
       "      <td>Sure, my order ID is A8B9V1E9 and account numb...</td>\n",
       "      <td>order_status</td>\n",
       "      <td>16</td>\n",
       "      <td>69</td>\n",
       "      <td>3</td>\n",
       "      <td>customer</td>\n",
       "    </tr>\n",
       "    <tr>\n",
       "      <th>72</th>\n",
       "      <td>Of course, order ID 987yh512 and account numbe...</td>\n",
       "      <td>order_status</td>\n",
       "      <td>17</td>\n",
       "      <td>73</td>\n",
       "      <td>3</td>\n",
       "      <td>customer</td>\n",
       "    </tr>\n",
       "    <tr>\n",
       "      <th>76</th>\n",
       "      <td>Order ID NB0293RJ and account number 09128342</td>\n",
       "      <td>order_status</td>\n",
       "      <td>18</td>\n",
       "      <td>77</td>\n",
       "      <td>3</td>\n",
       "      <td>customer</td>\n",
       "    </tr>\n",
       "    <tr>\n",
       "      <th>80</th>\n",
       "      <td>order ID 09BA JH01 and account 09834532</td>\n",
       "      <td>order_status</td>\n",
       "      <td>19</td>\n",
       "      <td>81</td>\n",
       "      <td>3</td>\n",
       "      <td>customer</td>\n",
       "    </tr>\n",
       "    <tr>\n",
       "      <th>84</th>\n",
       "      <td>No worries, my order ID is BEDSW912, let me ch...</td>\n",
       "      <td>order_status</td>\n",
       "      <td>20</td>\n",
       "      <td>85</td>\n",
       "      <td>3</td>\n",
       "      <td>customer</td>\n",
       "    </tr>\n",
       "    <tr>\n",
       "      <th>85</th>\n",
       "      <td>Account number 67223023</td>\n",
       "      <td>order_status</td>\n",
       "      <td>20</td>\n",
       "      <td>86</td>\n",
       "      <td>4</td>\n",
       "      <td>customer</td>\n",
       "    </tr>\n",
       "  </tbody>\n",
       "</table>\n",
       "</div>"
      ],
      "text/plain": [
       "                                              message     case_type  \\\n",
       "2   Sure, my order ID is A8B9V1E9 and account numb...  cancel_order   \n",
       "6        Yeah account number 09832453, order BSD932X0  cancel_order   \n",
       "10  No worries, my order ID is BEDSW912, let me ch...  cancel_order   \n",
       "11                            Account number 67223023  cancel_order   \n",
       "15      Order ID 87GHE8EU and account number 98234321  cancel_order   \n",
       "20                            account number 01928340  cancel_order   \n",
       "21                                 order ID 09BA JH01  cancel_order   \n",
       "25  account number is 72934923, and order id is 98...  cancel_order   \n",
       "29      Order ID 987yh512 and account number 32430984  cancel_order   \n",
       "33         account number 85430982, order ID nbreg923  cancel_order   \n",
       "37                    yeah AN 09823081 order 8n3f0238  cancel_order   \n",
       "41      Order ID NB0293RJ and account number 09128342  cancel_order   \n",
       "45         account number 85430982, order ID nbreg923  order_status   \n",
       "49                            account number 01928340  order_status   \n",
       "50                                 order ID 09BA JH01  order_status   \n",
       "54       Yeah account number 09832453, order BSD932X0  order_status   \n",
       "58      Order ID 987yh512 and account number 32430984  order_status   \n",
       "63                            account number 01928340  order_status   \n",
       "64                                 order ID 09BA JH01  order_status   \n",
       "68  Sure, my order ID is A8B9V1E9 and account numb...  order_status   \n",
       "72  Of course, order ID 987yh512 and account numbe...  order_status   \n",
       "76      Order ID NB0293RJ and account number 09128342  order_status   \n",
       "80            order ID 09BA JH01 and account 09834532  order_status   \n",
       "84  No worries, my order ID is BEDSW912, let me ch...  order_status   \n",
       "85                            Account number 67223023  order_status   \n",
       "\n",
       "    conversation_id  message_id  message_number message_source  \n",
       "2                 1           3               3       customer  \n",
       "6                 2           7               3       customer  \n",
       "10                3          11               3       customer  \n",
       "11                3          12               4       customer  \n",
       "15                4          16               3       customer  \n",
       "20                5          21               4       customer  \n",
       "21                5          22               5       customer  \n",
       "25                6          26               3       customer  \n",
       "29                7          30               3       customer  \n",
       "33                8          34               3       customer  \n",
       "37                9          38               3       customer  \n",
       "41               10          42               3       customer  \n",
       "45               11          46               3       customer  \n",
       "49               12          50               3       customer  \n",
       "50               12          51               4       customer  \n",
       "54               13          55               3       customer  \n",
       "58               14          59               3       customer  \n",
       "63               15          64               4       customer  \n",
       "64               15          65               5       customer  \n",
       "68               16          69               3       customer  \n",
       "72               17          73               3       customer  \n",
       "76               18          77               3       customer  \n",
       "80               19          81               3       customer  \n",
       "84               20          85               3       customer  \n",
       "85               20          86               4       customer  "
      ]
     },
     "execution_count": 23,
     "metadata": {},
     "output_type": "execute_result"
    }
   ],
   "source": [
    "# Read CSV\n",
    "tech_df = pd.read_csv('tech_test_data.csv')\n",
    "tech_df\n",
    "\n",
    "# Drop agent rows\n",
    "tech_customer_df = tech_df[tech_df.message_source == 'customer']\n",
    "tech_customer_df\n",
    "\n",
    "# Keep account and order only\n",
    "tech_info_df = tech_customer_df[tech_customer_df.message_number != 1]\n",
    "tech_info_df\n",
    "\n",
    "# Remove non-order messages\n",
    "tech_info_modified = tech_info_df.drop(19)\n",
    "\n",
    "tech_info_modified = tech_info_modified.drop(62)\n",
    "\n",
    "tech_info_modified"
   ]
  },
  {
   "cell_type": "code",
   "execution_count": 27,
   "metadata": {},
   "outputs": [],
   "source": [
    "X = tech_info_modified.message"
   ]
  },
  {
   "cell_type": "code",
   "execution_count": 28,
   "metadata": {},
   "outputs": [
    {
     "name": "stdout",
     "output_type": "stream",
     "text": [
      "['Sure, my order ID is A8B9V1E9 and account number is 87630823', 'Yeah account number 09832453, order BSD932X0', 'No worries, my order ID is BEDSW912, let me check the account number', 'Account number 67223023', 'Order ID 87GHE8EU and account number 98234321', 'account number 01928340', 'order ID 09BA JH01', 'account number is 72934923, and order id is 987BGF12', 'Order ID 987yh512 and account number 32430984', 'account number 85430982, order ID nbreg923', 'yeah AN 09823081 order 8n3f0238', 'Order ID NB0293RJ and account number 09128342', 'account number 85430982, order ID nbreg923', 'account number 01928340', 'order ID 09BA JH01', 'Yeah account number 09832453, order BSD932X0', 'Order ID 987yh512 and account number 32430984', 'account number 01928340', 'order ID 09BA JH01', 'Sure, my order ID is A8B9V1E9 and account number is 87630823', 'Of course, order ID 987yh512 and account number 32430984', 'Order ID NB0293RJ and account number 09128342', 'order ID 09BA JH01 and account 09834532', 'No worries, my order ID is BEDSW912, let me check the account number', 'Account number 67223023']\n"
     ]
    }
   ],
   "source": [
    "X_list = list(X)\n",
    "# print(X_list)\n",
    "\n",
    "X_preprocessed = []\n",
    "for string in X_list:\n",
    "    d = replace_contractions(string)\n",
    "    X_preprocessed.append(d)\n",
    "\n",
    "print(X_preprocessed)"
   ]
  },
  {
   "cell_type": "code",
   "execution_count": 29,
   "metadata": {},
   "outputs": [],
   "source": [
    "# First round of preprocessing the training data\n",
    "def replace_contractions(text):\n",
    "    \"\"\"Replace contractions in string of text\"\"\"\n",
    "    return contractions.fix(text)"
   ]
  },
  {
   "cell_type": "code",
   "execution_count": 30,
   "metadata": {},
   "outputs": [
    {
     "name": "stdout",
     "output_type": "stream",
     "text": [
      "[['Sure', ',', 'my', 'order', 'ID', 'is', 'A8B9V1E9', 'and', 'account', 'number', 'is', '87630823'], ['Yeah', 'account', 'number', '09832453', ',', 'order', 'BSD932X0'], ['No', 'worries', ',', 'my', 'order', 'ID', 'is', 'BEDSW912', ',', 'let', 'me', 'check', 'the', 'account', 'number'], ['Account', 'number', '67223023'], ['Order', 'ID', '87GHE8EU', 'and', 'account', 'number', '98234321'], ['account', 'number', '01928340'], ['order', 'ID', '09BA', 'JH01'], ['account', 'number', 'is', '72934923', ',', 'and', 'order', 'id', 'is', '987BGF12'], ['Order', 'ID', '987yh512', 'and', 'account', 'number', '32430984'], ['account', 'number', '85430982', ',', 'order', 'ID', 'nbreg923'], ['yeah', 'AN', '09823081', 'order', '8n3f0238'], ['Order', 'ID', 'NB0293RJ', 'and', 'account', 'number', '09128342'], ['account', 'number', '85430982', ',', 'order', 'ID', 'nbreg923'], ['account', 'number', '01928340'], ['order', 'ID', '09BA', 'JH01'], ['Yeah', 'account', 'number', '09832453', ',', 'order', 'BSD932X0'], ['Order', 'ID', '987yh512', 'and', 'account', 'number', '32430984'], ['account', 'number', '01928340'], ['order', 'ID', '09BA', 'JH01'], ['Sure', ',', 'my', 'order', 'ID', 'is', 'A8B9V1E9', 'and', 'account', 'number', 'is', '87630823'], ['Of', 'course', ',', 'order', 'ID', '987yh512', 'and', 'account', 'number', '32430984'], ['Order', 'ID', 'NB0293RJ', 'and', 'account', 'number', '09128342'], ['order', 'ID', '09BA', 'JH01', 'and', 'account', '09834532'], ['No', 'worries', ',', 'my', 'order', 'ID', 'is', 'BEDSW912', ',', 'let', 'me', 'check', 'the', 'account', 'number'], ['Account', 'number', '67223023']]\n"
     ]
    }
   ],
   "source": [
    "# Tokenise the data\n",
    "\n",
    "X_tokenised = []\n",
    "for string in X_preprocessed:\n",
    "    words = nltk.word_tokenize(string)\n",
    "    X_tokenised.append(words)\n",
    "\n",
    "print(X_tokenised)"
   ]
  },
  {
   "cell_type": "code",
   "execution_count": 31,
   "metadata": {},
   "outputs": [],
   "source": [
    "# additional pre-processing\n",
    "def remove_stopwords(words):\n",
    "    \"\"\"Remove stop words from list of tokenized words\"\"\"\n",
    "    new_words = []\n",
    "    for word in words:\n",
    "        if word not in stopwords.words('english'):\n",
    "            new_words.append(word)\n",
    "    return new_words\n",
    "\n",
    "def remove_punctuation(words):\n",
    "    \"\"\"Remove punctuation from list of tokenized words\"\"\"\n",
    "    new_words = []\n",
    "    for word in words:\n",
    "        new_word = re.sub(r'[^\\w\\s]', '', word)\n",
    "        if new_word != '':\n",
    "            new_words.append(new_word)\n",
    "    return new_words\n",
    "\n",
    "def normalize(words):\n",
    "    words = remove_punctuation(words)\n",
    "    words = remove_stopwords(words)\n",
    "    return words\n",
    "\n",
    "# for later use\n",
    "def to_lowercase(words):\n",
    "    \"\"\"Convert all characters to lowercase from list of tokenized words\"\"\"\n",
    "    new_words = []\n",
    "    for word in words:\n",
    "        new_word = word.lower()\n",
    "        new_words.append(new_word)\n",
    "    return new_words"
   ]
  },
  {
   "cell_type": "code",
   "execution_count": 32,
   "metadata": {},
   "outputs": [
    {
     "name": "stdout",
     "output_type": "stream",
     "text": [
      "[['Sure', 'order', 'ID', 'A8B9V1E9', 'account', 'number', '87630823'], ['Yeah', 'account', 'number', '09832453', 'order', 'BSD932X0'], ['No', 'worries', 'order', 'ID', 'BEDSW912', 'let', 'check', 'account', 'number'], ['Account', 'number', '67223023'], ['Order', 'ID', '87GHE8EU', 'account', 'number', '98234321'], ['account', 'number', '01928340'], ['order', 'ID', '09BA', 'JH01'], ['account', 'number', '72934923', 'order', 'id', '987BGF12'], ['Order', 'ID', '987yh512', 'account', 'number', '32430984'], ['account', 'number', '85430982', 'order', 'ID', 'nbreg923'], ['yeah', 'AN', '09823081', 'order', '8n3f0238'], ['Order', 'ID', 'NB0293RJ', 'account', 'number', '09128342'], ['account', 'number', '85430982', 'order', 'ID', 'nbreg923'], ['account', 'number', '01928340'], ['order', 'ID', '09BA', 'JH01'], ['Yeah', 'account', 'number', '09832453', 'order', 'BSD932X0'], ['Order', 'ID', '987yh512', 'account', 'number', '32430984'], ['account', 'number', '01928340'], ['order', 'ID', '09BA', 'JH01'], ['Sure', 'order', 'ID', 'A8B9V1E9', 'account', 'number', '87630823'], ['Of', 'course', 'order', 'ID', '987yh512', 'account', 'number', '32430984'], ['Order', 'ID', 'NB0293RJ', 'account', 'number', '09128342'], ['order', 'ID', '09BA', 'JH01', 'account', '09834532'], ['No', 'worries', 'order', 'ID', 'BEDSW912', 'let', 'check', 'account', 'number'], ['Account', 'number', '67223023']]\n"
     ]
    }
   ],
   "source": [
    "X_normalised = []\n",
    "# print(X_tokenised)\n",
    "for tokens in X_tokenised:\n",
    "    words = normalize(tokens)\n",
    "    X_normalised.append(words)\n",
    "    \n",
    "print(X_normalised)"
   ]
  },
  {
   "cell_type": "code",
   "execution_count": 73,
   "metadata": {},
   "outputs": [
    {
     "name": "stdout",
     "output_type": "stream",
     "text": [
      "['87630823', '09832453', '67223023', '98234321', '01928340', '72934923', '32430984', '85430982', '09823081', '09128342', '85430982', '01928340', '09832453', '32430984', '01928340', '87630823', '32430984', '09128342', '09834532', '67223023']\n"
     ]
    }
   ],
   "source": [
    "# return account number:\n",
    "\n",
    "AN = []\n",
    "\n",
    "for string in X_normalised:\n",
    "#     print(string)\n",
    "    for token in string:\n",
    "        if token.isdigit():\n",
    "            AN.append(token)\n",
    "\n",
    "print(AN)"
   ]
  },
  {
   "cell_type": "code",
   "execution_count": 81,
   "metadata": {},
   "outputs": [
    {
     "name": "stdout",
     "output_type": "stream",
     "text": [
      "4\n",
      "id\n"
     ]
    }
   ],
   "source": [
    "# Additional preprocessing\n",
    "\n",
    "for string in X_normalised:\n",
    "#     print(string)\n",
    "    for token in string:\n",
    "        if token == 'id':\n",
    "            print(string.index('id'))\n",
    "            print(token)"
   ]
  },
  {
   "cell_type": "code",
   "execution_count": 75,
   "metadata": {},
   "outputs": [
    {
     "name": "stdout",
     "output_type": "stream",
     "text": [
      "['Sure order ID A8B9V1E9 account number 87630823', 'Yeah account number 09832453 order BSD932X0', 'No worries order ID BEDSW912 let check account number', 'Account number 67223023', 'Order ID 87GHE8EU account number 98234321', 'account number 01928340', 'order ID 09BA JH01', 'account number 72934923 order id 987BGF12', 'Order ID 987yh512 account number 32430984', 'account number 85430982 order ID nbreg923', 'yeah AN 09823081 order 8n3f0238', 'Order ID NB0293RJ account number 09128342', 'account number 85430982 order ID nbreg923', 'account number 01928340', 'order ID 09BA JH01', 'Yeah account number 09832453 order BSD932X0', 'Order ID 987yh512 account number 32430984', 'account number 01928340', 'order ID 09BA JH01', 'Sure order ID A8B9V1E9 account number 87630823', 'Of course order ID 987yh512 account number 32430984', 'Order ID NB0293RJ account number 09128342', 'order ID 09BA JH01 account 09834532', 'No worries order ID BEDSW912 let check account number', 'Account number 67223023']\n"
     ]
    }
   ],
   "source": [
    "X_joined = []\n",
    "\n",
    "for tokens in X_normalised:\n",
    "    joined = \" \".join(tokens)\n",
    "    X_joined.append(joined)\n",
    "\n",
    "print(X_joined)"
   ]
  },
  {
   "cell_type": "code",
   "execution_count": 111,
   "metadata": {},
   "outputs": [
    {
     "name": "stdout",
     "output_type": "stream",
     "text": [
      " ID A8B9V1E9 account number 87630823\n",
      " BSD932X0\n",
      " ID BEDSW912 let check account number\n",
      " ID 09BA JH01\n",
      " id 987BGF12\n",
      " ID nbreg923\n",
      " 8n3f0238\n",
      " ID nbreg923\n",
      " ID 09BA JH01\n",
      " BSD932X0\n",
      " ID 09BA JH01\n",
      " ID A8B9V1E9 account number 87630823\n",
      " ID 987yh512 account number 32430984\n",
      " ID 09BA JH01 account 09834532\n",
      " ID BEDSW912 let check account number\n",
      "[' ID A8B9V1E9 account number 87630823', ' BSD932X0', ' ID BEDSW912 let check account number', ' ID 09BA JH01', ' id 987BGF12', ' ID nbreg923', ' 8n3f0238', ' ID nbreg923', ' ID 09BA JH01', ' BSD932X0', ' ID 09BA JH01', ' ID A8B9V1E9 account number 87630823', ' ID 987yh512 account number 32430984', ' ID 09BA JH01 account 09834532', ' ID BEDSW912 let check account number']\n"
     ]
    }
   ],
   "source": [
    "ID = []\n",
    "\n",
    "for string in X_joined:\n",
    "    if 'order' in string:\n",
    "        print(string.split('order', 3)[1])\n",
    "        ID.append(string.split('order',1)[1])\n",
    "            \n",
    "\n",
    "print(ID)"
   ]
  },
  {
   "cell_type": "code",
   "execution_count": 127,
   "metadata": {},
   "outputs": [
    {
     "name": "stdout",
     "output_type": "stream",
     "text": [
      "[['ID', 'A8B9V1E9', 'account', 'number', '87630823'], ['BSD932X0'], ['ID', 'BEDSW912', 'let', 'check', 'account', 'number'], ['ID', '09BA', 'JH01'], ['id', '987BGF12'], ['ID', 'nbreg923'], ['8n3f0238'], ['ID', 'nbreg923'], ['ID', '09BA', 'JH01'], ['BSD932X0'], ['ID', '09BA', 'JH01'], ['ID', 'A8B9V1E9', 'account', 'number', '87630823'], ['ID', '987yh512', 'account', 'number', '32430984'], ['ID', '09BA', 'JH01', 'account', '09834532'], ['ID', 'BEDSW912', 'let', 'check', 'account', 'number']]\n"
     ]
    }
   ],
   "source": [
    "# Final ID numbers\n",
    "\n",
    "ID_tokenised = []\n",
    "for string in ID:\n",
    "    words = nltk.word_tokenize(string)\n",
    "    ID_tokenised.append(words)\n",
    "\n",
    "print(ID_tokenised)\n",
    "\n",
    "# ID_final = []\n",
    "\n",
    "\n",
    "# ID[0]\n",
    "\n",
    "# for i, strings in enumerate(ID):\n",
    "#     strings.split()\n",
    "#     print(i, strings)\n",
    "#     if len(ID[i]) == 1:\n",
    "#         ID_final.append(stringss\n",
    "#     else:\n",
    "#         ID_final.append(ID[i])\n",
    "\n",
    "# print(ID_final)"
   ]
  },
  {
   "cell_type": "code",
   "execution_count": 131,
   "metadata": {},
   "outputs": [
    {
     "name": "stdout",
     "output_type": "stream",
     "text": [
      "['A8B9V1E9', 'BSD932X0', 'BEDSW912', '09BA', '987BGF12', 'nbreg923', '8n3f0238', 'nbreg923', '09BA', 'BSD932X0', '09BA', 'A8B9V1E9', '987yh512', '09BA', 'BEDSW912']\n"
     ]
    }
   ],
   "source": [
    "ID_final = []\n",
    "\n",
    "for i, strings in enumerate(ID_tokenised):\n",
    "#     print(i, strings[1])\n",
    "    if len(ID_tokenised[i]) == 1:\n",
    "        ID_final.append(ID_tokenised[i][0])\n",
    "    elif len(ID_tokenised[i])>= 1:\n",
    "        ID_final.append(ID_tokenised[i][1])\n",
    "\n",
    "print(ID_final)"
   ]
  },
  {
   "cell_type": "code",
   "execution_count": null,
   "metadata": {},
   "outputs": [],
   "source": [
    "# finalising "
   ]
  },
  {
   "cell_type": "code",
   "execution_count": null,
   "metadata": {},
   "outputs": [],
   "source": [
    "# return Order ID\n",
    "\n",
    "# Capitalise ID\n"
   ]
  },
  {
   "cell_type": "code",
   "execution_count": 72,
   "metadata": {},
   "outputs": [],
   "source": [
    "# s = X_normalised[0]\n",
    "\n",
    "# print(s)\n",
    "\n",
    "# s[6].isdigit()\n",
    "\n",
    "# for word in s:\n",
    "#     print(word.isdigit())"
   ]
  },
  {
   "cell_type": "code",
   "execution_count": null,
   "metadata": {},
   "outputs": [],
   "source": [
    "# return order ID:"
   ]
  },
  {
   "cell_type": "code",
   "execution_count": 68,
   "metadata": {},
   "outputs": [],
   "source": [
    "# X_joined = []\n",
    "\n",
    "# for tokens in X_normalised:\n",
    "#     joined = \" \".join(tokens)\n",
    "#     X_joined.append(joined)\n",
    "\n",
    "# print(X_joined)"
   ]
  },
  {
   "cell_type": "code",
   "execution_count": 69,
   "metadata": {},
   "outputs": [],
   "source": [
    "# sample = X_joined[0]\n",
    "# print(sample)"
   ]
  },
  {
   "cell_type": "code",
   "execution_count": 70,
   "metadata": {},
   "outputs": [],
   "source": [
    "# return order ID:\n",
    "\n",
    "# split_string = []\n",
    "# for string in X_joined:"
   ]
  },
  {
   "cell_type": "code",
   "execution_count": 71,
   "metadata": {},
   "outputs": [],
   "source": [
    "# my_string=\"hello python world , i'm a beginner \"\n",
    "# print(my_string.split(\"world\",1))"
   ]
  },
  {
   "cell_type": "code",
   "execution_count": 32,
   "metadata": {},
   "outputs": [],
   "source": [
    "def oddNumbers(l, r):\n",
    "    for x in range(1,r):\n",
    "        if x % 2 != 0:\n",
    "            print(x)"
   ]
  },
  {
   "cell_type": "code",
   "execution_count": 33,
   "metadata": {},
   "outputs": [
    {
     "name": "stdout",
     "output_type": "stream",
     "text": [
      "1\n",
      "3\n",
      "5\n"
     ]
    }
   ],
   "source": [
    "oddNumbers(1,6)"
   ]
  },
  {
   "cell_type": "code",
   "execution_count": 27,
   "metadata": {},
   "outputs": [
    {
     "name": "stdout",
     "output_type": "stream",
     "text": [
      "1\n",
      "2\n",
      "3\n",
      "4\n"
     ]
    }
   ],
   "source": [
    "for i in range(1,5):\n",
    "    print(i)"
   ]
  },
  {
   "cell_type": "code",
   "execution_count": 28,
   "metadata": {},
   "outputs": [],
   "source": [
    "x = [y for y in range(1,5) if y % 2 !=0]"
   ]
  },
  {
   "cell_type": "code",
   "execution_count": 29,
   "metadata": {},
   "outputs": [
    {
     "name": "stdout",
     "output_type": "stream",
     "text": [
      "[1, 3]\n"
     ]
    }
   ],
   "source": [
    "print(x)"
   ]
  },
  {
   "cell_type": "code",
   "execution_count": null,
   "metadata": {},
   "outputs": [],
   "source": []
  }
 ],
 "metadata": {
  "kernelspec": {
   "display_name": "Python 3",
   "language": "python",
   "name": "python3"
  },
  "language_info": {
   "codemirror_mode": {
    "name": "ipython",
    "version": 3
   },
   "file_extension": ".py",
   "mimetype": "text/x-python",
   "name": "python",
   "nbconvert_exporter": "python",
   "pygments_lexer": "ipython3",
   "version": "3.6.8"
  }
 },
 "nbformat": 4,
 "nbformat_minor": 2
}
