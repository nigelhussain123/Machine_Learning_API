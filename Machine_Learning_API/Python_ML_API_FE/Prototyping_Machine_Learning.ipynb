{
 "cells": [
  {
   "cell_type": "markdown",
   "metadata": {},
   "source": [
    "# Model Creation\n",
    "\n",
    "This jupyter notebook is where I personally created the logistic regression model that will be used in the server"
   ]
  },
  {
   "cell_type": "code",
   "execution_count": 1,
   "metadata": {},
   "outputs": [
    {
     "name": "stderr",
     "output_type": "stream",
     "text": [
      "[nltk_data] Downloading package punkt to\n",
      "[nltk_data]     /Users/nigel.hussain/nltk_data...\n",
      "[nltk_data]   Package punkt is already up-to-date!\n",
      "[nltk_data] Downloading package stopwords to\n",
      "[nltk_data]     /Users/nigel.hussain/nltk_data...\n",
      "[nltk_data]   Package stopwords is already up-to-date!\n"
     ]
    }
   ],
   "source": [
    "# Import dependencies\n",
    "import pandas as pd\n",
    "import numpy as np\n",
    "import os as os\n",
    "import re, string, unicodedata\n",
    "import nltk\n",
    "nltk.download('punkt')\n",
    "nltk.download('stopwords')\n",
    "import contractions\n",
    "import inflect\n",
    "from bs4 import BeautifulSoup\n",
    "from nltk import word_tokenize, sent_tokenize\n",
    "from nltk.corpus import stopwords\n",
    "from nltk.stem import LancasterStemmer, WordNetLemmatizer\n",
    "from sklearn.model_selection import train_test_split\n",
    "from sklearn import preprocessing"
   ]
  },
  {
   "cell_type": "code",
   "execution_count": 2,
   "metadata": {
    "scrolled": false
   },
   "outputs": [
    {
     "data": {
      "text/html": [
       "<div>\n",
       "<style scoped>\n",
       "    .dataframe tbody tr th:only-of-type {\n",
       "        vertical-align: middle;\n",
       "    }\n",
       "\n",
       "    .dataframe tbody tr th {\n",
       "        vertical-align: top;\n",
       "    }\n",
       "\n",
       "    .dataframe thead th {\n",
       "        text-align: right;\n",
       "    }\n",
       "</style>\n",
       "<table border=\"1\" class=\"dataframe\">\n",
       "  <thead>\n",
       "    <tr style=\"text-align: right;\">\n",
       "      <th></th>\n",
       "      <th>message</th>\n",
       "      <th>case_type</th>\n",
       "      <th>conversation_id</th>\n",
       "      <th>message_id</th>\n",
       "      <th>message_number</th>\n",
       "      <th>message_source</th>\n",
       "    </tr>\n",
       "  </thead>\n",
       "  <tbody>\n",
       "    <tr>\n",
       "      <th>0</th>\n",
       "      <td>Hi, I’d like to cancel my order please.</td>\n",
       "      <td>cancel_order</td>\n",
       "      <td>1</td>\n",
       "      <td>1</td>\n",
       "      <td>1</td>\n",
       "      <td>customer</td>\n",
       "    </tr>\n",
       "    <tr>\n",
       "      <th>4</th>\n",
       "      <td>Hi, please give me some assistance cancelling ...</td>\n",
       "      <td>cancel_order</td>\n",
       "      <td>2</td>\n",
       "      <td>5</td>\n",
       "      <td>1</td>\n",
       "      <td>customer</td>\n",
       "    </tr>\n",
       "    <tr>\n",
       "      <th>8</th>\n",
       "      <td>Hello, I need to cancel an order</td>\n",
       "      <td>cancel_order</td>\n",
       "      <td>3</td>\n",
       "      <td>9</td>\n",
       "      <td>1</td>\n",
       "      <td>customer</td>\n",
       "    </tr>\n",
       "    <tr>\n",
       "      <th>13</th>\n",
       "      <td>Hey hey, I ordered something yesterday but it ...</td>\n",
       "      <td>cancel_order</td>\n",
       "      <td>4</td>\n",
       "      <td>14</td>\n",
       "      <td>1</td>\n",
       "      <td>customer</td>\n",
       "    </tr>\n",
       "    <tr>\n",
       "      <th>17</th>\n",
       "      <td>Hi, thanks for helping out – I want to cancel ...</td>\n",
       "      <td>cancel_order</td>\n",
       "      <td>5</td>\n",
       "      <td>18</td>\n",
       "      <td>1</td>\n",
       "      <td>customer</td>\n",
       "    </tr>\n",
       "    <tr>\n",
       "      <th>23</th>\n",
       "      <td>I need to cancel my order</td>\n",
       "      <td>cancel_order</td>\n",
       "      <td>6</td>\n",
       "      <td>24</td>\n",
       "      <td>1</td>\n",
       "      <td>customer</td>\n",
       "    </tr>\n",
       "    <tr>\n",
       "      <th>27</th>\n",
       "      <td>Hello, I ordered from your service yesterday b...</td>\n",
       "      <td>cancel_order</td>\n",
       "      <td>7</td>\n",
       "      <td>28</td>\n",
       "      <td>1</td>\n",
       "      <td>customer</td>\n",
       "    </tr>\n",
       "    <tr>\n",
       "      <th>31</th>\n",
       "      <td>I’d like to cancel an order with you</td>\n",
       "      <td>cancel_order</td>\n",
       "      <td>8</td>\n",
       "      <td>32</td>\n",
       "      <td>1</td>\n",
       "      <td>customer</td>\n",
       "    </tr>\n",
       "    <tr>\n",
       "      <th>35</th>\n",
       "      <td>Someone ordered something on my account, I nee...</td>\n",
       "      <td>cancel_order</td>\n",
       "      <td>9</td>\n",
       "      <td>36</td>\n",
       "      <td>1</td>\n",
       "      <td>customer</td>\n",
       "    </tr>\n",
       "    <tr>\n",
       "      <th>39</th>\n",
       "      <td>I would like to cancel the order I made last w...</td>\n",
       "      <td>cancel_order</td>\n",
       "      <td>10</td>\n",
       "      <td>40</td>\n",
       "      <td>1</td>\n",
       "      <td>customer</td>\n",
       "    </tr>\n",
       "    <tr>\n",
       "      <th>43</th>\n",
       "      <td>I paid for an order last week, what the hell i...</td>\n",
       "      <td>order_status</td>\n",
       "      <td>11</td>\n",
       "      <td>44</td>\n",
       "      <td>1</td>\n",
       "      <td>customer</td>\n",
       "    </tr>\n",
       "    <tr>\n",
       "      <th>47</th>\n",
       "      <td>Can you check if my order has shipped yet</td>\n",
       "      <td>order_status</td>\n",
       "      <td>12</td>\n",
       "      <td>48</td>\n",
       "      <td>1</td>\n",
       "      <td>customer</td>\n",
       "    </tr>\n",
       "    <tr>\n",
       "      <th>52</th>\n",
       "      <td>Hi, my order was supposed to arrive yesterday,...</td>\n",
       "      <td>order_status</td>\n",
       "      <td>13</td>\n",
       "      <td>53</td>\n",
       "      <td>1</td>\n",
       "      <td>customer</td>\n",
       "    </tr>\n",
       "    <tr>\n",
       "      <th>56</th>\n",
       "      <td>Hello there, please can I check where my order is</td>\n",
       "      <td>order_status</td>\n",
       "      <td>14</td>\n",
       "      <td>57</td>\n",
       "      <td>1</td>\n",
       "      <td>customer</td>\n",
       "    </tr>\n",
       "    <tr>\n",
       "      <th>60</th>\n",
       "      <td>Hello, I’d like to check if my order shipped yet</td>\n",
       "      <td>order_status</td>\n",
       "      <td>15</td>\n",
       "      <td>61</td>\n",
       "      <td>1</td>\n",
       "      <td>customer</td>\n",
       "    </tr>\n",
       "    <tr>\n",
       "      <th>66</th>\n",
       "      <td>Hi, I have an order due to arrive today and no...</td>\n",
       "      <td>order_status</td>\n",
       "      <td>16</td>\n",
       "      <td>67</td>\n",
       "      <td>1</td>\n",
       "      <td>customer</td>\n",
       "    </tr>\n",
       "    <tr>\n",
       "      <th>70</th>\n",
       "      <td>Can I check what’s going on with my order from...</td>\n",
       "      <td>order_status</td>\n",
       "      <td>17</td>\n",
       "      <td>71</td>\n",
       "      <td>1</td>\n",
       "      <td>customer</td>\n",
       "    </tr>\n",
       "    <tr>\n",
       "      <th>74</th>\n",
       "      <td>I’d like to find out where my order is guys, i...</td>\n",
       "      <td>order_status</td>\n",
       "      <td>18</td>\n",
       "      <td>75</td>\n",
       "      <td>1</td>\n",
       "      <td>customer</td>\n",
       "    </tr>\n",
       "    <tr>\n",
       "      <th>78</th>\n",
       "      <td>Hey, do you know where my order is?</td>\n",
       "      <td>order_status</td>\n",
       "      <td>19</td>\n",
       "      <td>79</td>\n",
       "      <td>1</td>\n",
       "      <td>customer</td>\n",
       "    </tr>\n",
       "    <tr>\n",
       "      <th>82</th>\n",
       "      <td>Guys, I ordered something from you a month ago...</td>\n",
       "      <td>order_status</td>\n",
       "      <td>20</td>\n",
       "      <td>83</td>\n",
       "      <td>1</td>\n",
       "      <td>customer</td>\n",
       "    </tr>\n",
       "  </tbody>\n",
       "</table>\n",
       "</div>"
      ],
      "text/plain": [
       "                                              message     case_type  \\\n",
       "0             Hi, I’d like to cancel my order please.  cancel_order   \n",
       "4   Hi, please give me some assistance cancelling ...  cancel_order   \n",
       "8                    Hello, I need to cancel an order  cancel_order   \n",
       "13  Hey hey, I ordered something yesterday but it ...  cancel_order   \n",
       "17  Hi, thanks for helping out – I want to cancel ...  cancel_order   \n",
       "23                          I need to cancel my order  cancel_order   \n",
       "27  Hello, I ordered from your service yesterday b...  cancel_order   \n",
       "31               I’d like to cancel an order with you  cancel_order   \n",
       "35  Someone ordered something on my account, I nee...  cancel_order   \n",
       "39  I would like to cancel the order I made last w...  cancel_order   \n",
       "43  I paid for an order last week, what the hell i...  order_status   \n",
       "47          Can you check if my order has shipped yet  order_status   \n",
       "52  Hi, my order was supposed to arrive yesterday,...  order_status   \n",
       "56  Hello there, please can I check where my order is  order_status   \n",
       "60   Hello, I’d like to check if my order shipped yet  order_status   \n",
       "66  Hi, I have an order due to arrive today and no...  order_status   \n",
       "70  Can I check what’s going on with my order from...  order_status   \n",
       "74  I’d like to find out where my order is guys, i...  order_status   \n",
       "78                Hey, do you know where my order is?  order_status   \n",
       "82  Guys, I ordered something from you a month ago...  order_status   \n",
       "\n",
       "    conversation_id  message_id  message_number message_source  \n",
       "0                 1           1               1       customer  \n",
       "4                 2           5               1       customer  \n",
       "8                 3           9               1       customer  \n",
       "13                4          14               1       customer  \n",
       "17                5          18               1       customer  \n",
       "23                6          24               1       customer  \n",
       "27                7          28               1       customer  \n",
       "31                8          32               1       customer  \n",
       "35                9          36               1       customer  \n",
       "39               10          40               1       customer  \n",
       "43               11          44               1       customer  \n",
       "47               12          48               1       customer  \n",
       "52               13          53               1       customer  \n",
       "56               14          57               1       customer  \n",
       "60               15          61               1       customer  \n",
       "66               16          67               1       customer  \n",
       "70               17          71               1       customer  \n",
       "74               18          75               1       customer  \n",
       "78               19          79               1       customer  \n",
       "82               20          83               1       customer  "
      ]
     },
     "execution_count": 2,
     "metadata": {},
     "output_type": "execute_result"
    }
   ],
   "source": [
    "# Read CSV\n",
    "tech_df = pd.read_csv('tech_test_data.csv')\n",
    "tech_df\n",
    "\n",
    "# Drop agent rows\n",
    "tech_customer_df = tech_df[tech_df.message_source == 'customer']\n",
    "\n",
    "# Drop account number and Order ID rows\n",
    "tech_customer_modified_df = tech_customer_df[(tech_customer_df.message_number == 1)]\n",
    "tech_customer_modified_df"
   ]
  },
  {
   "cell_type": "code",
   "execution_count": 3,
   "metadata": {},
   "outputs": [],
   "source": [
    "# Extract Variables\n",
    "X, y = tech_customer_modified_df.message, tech_customer_modified_df.case_type"
   ]
  },
  {
   "cell_type": "code",
   "execution_count": 4,
   "metadata": {},
   "outputs": [],
   "source": [
    "# First round of preprocessing the training data\n",
    "def replace_contractions(text):\n",
    "    \"\"\"Replace contractions in string of text\"\"\"\n",
    "    return contractions.fix(text)"
   ]
  },
  {
   "cell_type": "code",
   "execution_count": 5,
   "metadata": {},
   "outputs": [
    {
     "name": "stdout",
     "output_type": "stream",
     "text": [
      "['Hi, I would like to cancel my order please.', 'Hi, please give me some assistance cancelling my order.', 'Hello, I need to cancel an order', 'Hey hey, I ordered something yesterday but it was the wrong item – can I still cancel that?', 'Hi, thanks for helping out – I want to cancel an order', 'I need to cancel my order', 'Hello, I ordered from your service yesterday but I changed my mind, I need to cancel', 'I would like to cancel an order with you', 'Someone ordered something on my account, I need to cancel it', 'I would like to cancel the order I made last week if it has not shipped yet', 'I paid for an order last week, what the hell is going on?', 'Can you check if my order has shipped yet', 'Hi, my order was supposed to arrive yesterday, any news?', 'Hello there, please can I check where my order is', 'Hello, I would like to check if my order shipped yet', 'Hi, I have an order due to arrive today and not sure if I should stay home, can you check where it is?', 'Can I check what is going on with my order from the weekend', 'I would like to find out where my order is guys, it is the third time I have had a delay', 'Hey, do you know where my order is?', 'Guys, I ordered something from you a month ago and nothing has arrived yet, do you have a good reason for this?']\n"
     ]
    }
   ],
   "source": [
    "# remove all of the contractions\n",
    "X_list = list(X)\n",
    "\n",
    "X_preprocessed = []\n",
    "for string in X_list:\n",
    "    d = replace_contractions(string)\n",
    "    X_preprocessed.append(d)\n",
    "\n",
    "print(X_preprocessed)"
   ]
  },
  {
   "cell_type": "code",
   "execution_count": 6,
   "metadata": {},
   "outputs": [
    {
     "name": "stdout",
     "output_type": "stream",
     "text": [
      "[['Hi', ',', 'I', 'would', 'like', 'to', 'cancel', 'my', 'order', 'please', '.'], ['Hi', ',', 'please', 'give', 'me', 'some', 'assistance', 'cancelling', 'my', 'order', '.'], ['Hello', ',', 'I', 'need', 'to', 'cancel', 'an', 'order'], ['Hey', 'hey', ',', 'I', 'ordered', 'something', 'yesterday', 'but', 'it', 'was', 'the', 'wrong', 'item', '–', 'can', 'I', 'still', 'cancel', 'that', '?'], ['Hi', ',', 'thanks', 'for', 'helping', 'out', '–', 'I', 'want', 'to', 'cancel', 'an', 'order'], ['I', 'need', 'to', 'cancel', 'my', 'order'], ['Hello', ',', 'I', 'ordered', 'from', 'your', 'service', 'yesterday', 'but', 'I', 'changed', 'my', 'mind', ',', 'I', 'need', 'to', 'cancel'], ['I', 'would', 'like', 'to', 'cancel', 'an', 'order', 'with', 'you'], ['Someone', 'ordered', 'something', 'on', 'my', 'account', ',', 'I', 'need', 'to', 'cancel', 'it'], ['I', 'would', 'like', 'to', 'cancel', 'the', 'order', 'I', 'made', 'last', 'week', 'if', 'it', 'has', 'not', 'shipped', 'yet'], ['I', 'paid', 'for', 'an', 'order', 'last', 'week', ',', 'what', 'the', 'hell', 'is', 'going', 'on', '?'], ['Can', 'you', 'check', 'if', 'my', 'order', 'has', 'shipped', 'yet'], ['Hi', ',', 'my', 'order', 'was', 'supposed', 'to', 'arrive', 'yesterday', ',', 'any', 'news', '?'], ['Hello', 'there', ',', 'please', 'can', 'I', 'check', 'where', 'my', 'order', 'is'], ['Hello', ',', 'I', 'would', 'like', 'to', 'check', 'if', 'my', 'order', 'shipped', 'yet'], ['Hi', ',', 'I', 'have', 'an', 'order', 'due', 'to', 'arrive', 'today', 'and', 'not', 'sure', 'if', 'I', 'should', 'stay', 'home', ',', 'can', 'you', 'check', 'where', 'it', 'is', '?'], ['Can', 'I', 'check', 'what', 'is', 'going', 'on', 'with', 'my', 'order', 'from', 'the', 'weekend'], ['I', 'would', 'like', 'to', 'find', 'out', 'where', 'my', 'order', 'is', 'guys', ',', 'it', 'is', 'the', 'third', 'time', 'I', 'have', 'had', 'a', 'delay'], ['Hey', ',', 'do', 'you', 'know', 'where', 'my', 'order', 'is', '?'], ['Guys', ',', 'I', 'ordered', 'something', 'from', 'you', 'a', 'month', 'ago', 'and', 'nothing', 'has', 'arrived', 'yet', ',', 'do', 'you', 'have', 'a', 'good', 'reason', 'for', 'this', '?']]\n"
     ]
    }
   ],
   "source": [
    "# Tokenise the data\n",
    "X_tokenised = []\n",
    "for string in X_preprocessed:\n",
    "    words = nltk.word_tokenize(string)\n",
    "    X_tokenised.append(words)\n",
    "\n",
    "print(X_tokenised)"
   ]
  },
  {
   "cell_type": "code",
   "execution_count": 7,
   "metadata": {},
   "outputs": [],
   "source": [
    "# Additional Preprocessing\n",
    "def remove_non_ascii(words):\n",
    "    \"\"\"Remove non-ASCII characters from list of tokenized words\"\"\"\n",
    "    new_words = []\n",
    "    for word in words:\n",
    "        new_word = unicodedata.normalize('NFKD', word).encode('ascii', 'ignore').decode('utf-8', 'ignore')\n",
    "        new_words.append(new_word)\n",
    "    return new_words\n",
    "\n",
    "def to_lowercase(words):\n",
    "    \"\"\"Convert all characters to lowercase from list of tokenized words\"\"\"\n",
    "    new_words = []\n",
    "    for word in words:\n",
    "        new_word = word.lower()\n",
    "        new_words.append(new_word)\n",
    "    return new_words\n",
    "\n",
    "def remove_punctuation(words):\n",
    "    \"\"\"Remove punctuation from list of tokenized words\"\"\"\n",
    "    new_words = []\n",
    "    for word in words:\n",
    "        new_word = re.sub(r'[^\\w\\s]', '', word)\n",
    "        if new_word != '':\n",
    "            new_words.append(new_word)\n",
    "    return new_words\n",
    "\n",
    "def replace_numbers(words):\n",
    "    \"\"\"Replace all interger occurrences in list of tokenized words with textual representation\"\"\"\n",
    "    p = inflect.engine()\n",
    "    new_words = []\n",
    "    for word in words:\n",
    "        if word.isdigit():\n",
    "            new_word = p.number_to_words(word)\n",
    "            new_words.append(new_word)\n",
    "        else:\n",
    "            new_words.append(word)\n",
    "    return new_words\n",
    "\n",
    "def remove_stopwords(words):\n",
    "    \"\"\"Remove stop words from list of tokenized words\"\"\"\n",
    "    new_words = []\n",
    "    for word in words:\n",
    "        if word not in stopwords.words('english'):\n",
    "            new_words.append(word)\n",
    "    return new_words\n",
    "\n",
    "def normalize(words):\n",
    "    words = remove_non_ascii(words)\n",
    "    words = to_lowercase(words)\n",
    "    words = remove_punctuation(words)\n",
    "    words = replace_numbers(words)\n",
    "    words = remove_stopwords(words)\n",
    "    return words"
   ]
  },
  {
   "cell_type": "code",
   "execution_count": 8,
   "metadata": {},
   "outputs": [
    {
     "name": "stdout",
     "output_type": "stream",
     "text": [
      "[['hi', 'would', 'like', 'cancel', 'order', 'please'], ['hi', 'please', 'give', 'assistance', 'cancelling', 'order'], ['hello', 'need', 'cancel', 'order'], ['hey', 'hey', 'ordered', 'something', 'yesterday', 'wrong', 'item', 'still', 'cancel'], ['hi', 'thanks', 'helping', 'want', 'cancel', 'order'], ['need', 'cancel', 'order'], ['hello', 'ordered', 'service', 'yesterday', 'changed', 'mind', 'need', 'cancel'], ['would', 'like', 'cancel', 'order'], ['someone', 'ordered', 'something', 'account', 'need', 'cancel'], ['would', 'like', 'cancel', 'order', 'made', 'last', 'week', 'shipped', 'yet'], ['paid', 'order', 'last', 'week', 'hell', 'going'], ['check', 'order', 'shipped', 'yet'], ['hi', 'order', 'supposed', 'arrive', 'yesterday', 'news'], ['hello', 'please', 'check', 'order'], ['hello', 'would', 'like', 'check', 'order', 'shipped', 'yet'], ['hi', 'order', 'due', 'arrive', 'today', 'sure', 'stay', 'home', 'check'], ['check', 'going', 'order', 'weekend'], ['would', 'like', 'find', 'order', 'guys', 'third', 'time', 'delay'], ['hey', 'know', 'order'], ['guys', 'ordered', 'something', 'month', 'ago', 'nothing', 'arrived', 'yet', 'good', 'reason']]\n"
     ]
    }
   ],
   "source": [
    "X_normalised = []\n",
    "# print(X_tokenised)\n",
    "for tokens in X_tokenised:\n",
    "    words = normalize(tokens)\n",
    "    X_normalised.append(words)\n",
    "    \n",
    "print(X_normalised)"
   ]
  },
  {
   "cell_type": "code",
   "execution_count": 9,
   "metadata": {},
   "outputs": [
    {
     "name": "stdout",
     "output_type": "stream",
     "text": [
      "[[0 0 0 0 0 0 0 0 0 0 1 1 1 1 1 1 1 1 1 1]]\n"
     ]
    }
   ],
   "source": [
    "# finalise the tokenisation\n",
    "X_final = []\n",
    "\n",
    "for tokens in X_normalised:\n",
    "    if 'cancel' in tokens:\n",
    "        X_final.append(0)\n",
    "    elif 'cancelling' in tokens:\n",
    "        X_final.append(0)\n",
    "    else:\n",
    "        X_final.append(1)\n",
    "\n",
    "\n",
    "# convert to array\n",
    "X_final_array = np.asarray(X_final)\n",
    "print(X_final_array.reshape(1,-1))"
   ]
  },
  {
   "cell_type": "code",
   "execution_count": 10,
   "metadata": {},
   "outputs": [
    {
     "name": "stdout",
     "output_type": "stream",
     "text": [
      "['cancel_order' 'order_status']\n",
      "[0 0 0 0 0 0 0 0 0 0 1 1 1 1 1 1 1 1 1 1]\n"
     ]
    }
   ],
   "source": [
    "# Pre-process the testing data\n",
    "enc = preprocessing.LabelEncoder()\n",
    "x = ['cancel_order', 'order_status']\n",
    "enc.fit(x)\n",
    "\n",
    "# Sanity Check\n",
    "print(enc.classes_)\n",
    "\n",
    "\n",
    "y_preprocess = enc.transform(y)\n",
    "\n",
    "# Sanity Check\n",
    "print(y_preprocess)"
   ]
  },
  {
   "cell_type": "code",
   "execution_count": 11,
   "metadata": {},
   "outputs": [],
   "source": [
    "# Convert to Testing and Training Data\n",
    "train_X, test_X, train_Y, test_Y = train_test_split(X_final_array,y_preprocess,\n",
    "                                                   train_size = .7,\n",
    "                                                   test_size =  .3,\n",
    "                                                   random_state = 123)\n",
    "\n",
    "# to avoid size errors, convert training data to dataframes\n",
    "train_X_df = pd.DataFrame(train_X)\n",
    "train_Y_df = pd.DataFrame(train_Y)\n",
    "test_X_df = pd.DataFrame(test_X)\n",
    "test_Y_df = pd.DataFrame(test_Y)"
   ]
  },
  {
   "cell_type": "code",
   "execution_count": 12,
   "metadata": {},
   "outputs": [
    {
     "name": "stdout",
     "output_type": "stream",
     "text": [
      "[1 0 0 1 0 0]\n"
     ]
    },
    {
     "name": "stderr",
     "output_type": "stream",
     "text": [
      "/Users/nigel.hussain/anaconda3/envs/MLpy37/lib/python3.6/site-packages/sklearn/linear_model/logistic.py:433: FutureWarning: Default solver will be changed to 'lbfgs' in 0.22. Specify a solver to silence this warning.\n",
      "  FutureWarning)\n",
      "/Users/nigel.hussain/anaconda3/envs/MLpy37/lib/python3.6/site-packages/sklearn/utils/validation.py:761: DataConversionWarning: A column-vector y was passed when a 1d array was expected. Please change the shape of y to (n_samples, ), for example using ravel().\n",
      "  y = column_or_1d(y, warn=True)\n"
     ]
    }
   ],
   "source": [
    "# Start Logistic Regression classifier\n",
    "from sklearn.linear_model import LogisticRegression\n",
    "lr = LogisticRegression()\n",
    "lr.fit(train_X_df, train_Y_df)\n",
    "results = lr.predict(test_X_df)\n",
    "\n",
    "print(results)"
   ]
  },
  {
   "cell_type": "code",
   "execution_count": 13,
   "metadata": {},
   "outputs": [
    {
     "data": {
      "text/plain": [
       "['order_status',\n",
       " 'cancel_order',\n",
       " 'cancel_order',\n",
       " 'order_status',\n",
       " 'cancel_order',\n",
       " 'cancel_order']"
      ]
     },
     "execution_count": 13,
     "metadata": {},
     "output_type": "execute_result"
    }
   ],
   "source": [
    "# Sanity Check\n",
    "list(enc.inverse_transform(results))"
   ]
  },
  {
   "cell_type": "code",
   "execution_count": 14,
   "metadata": {},
   "outputs": [
    {
     "name": "stdout",
     "output_type": "stream",
     "text": [
      "Model dumped!\n"
     ]
    }
   ],
   "source": [
    "# Save your model (We used joblib, as it was designed for sklearns models and thus more efficient)\n",
    "from sklearn.externals import joblib\n",
    "joblib.dump(lr, 'model.pkl')\n",
    "print(\"Model dumped!\")"
   ]
  },
  {
   "cell_type": "code",
   "execution_count": 15,
   "metadata": {},
   "outputs": [],
   "source": [
    "# Load the model that you just saved\n",
    "lr = joblib.load('model.pkl')"
   ]
  }
 ],
 "metadata": {
  "kernelspec": {
   "display_name": "Python 3",
   "language": "python",
   "name": "python3"
  },
  "language_info": {
   "codemirror_mode": {
    "name": "ipython",
    "version": 3
   },
   "file_extension": ".py",
   "mimetype": "text/x-python",
   "name": "python",
   "nbconvert_exporter": "python",
   "pygments_lexer": "ipython3",
   "version": "3.6.8"
  }
 },
 "nbformat": 4,
 "nbformat_minor": 2
}
